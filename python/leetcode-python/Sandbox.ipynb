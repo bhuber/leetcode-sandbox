{
 "cells": [
  {
   "cell_type": "code",
   "execution_count": 2,
   "id": "b9df0586-b2d8-4e68-8b11-ef4b160df3e2",
   "metadata": {},
   "outputs": [],
   "source": [
    "foo: int = 3"
   ]
  },
  {
   "cell_type": "code",
   "execution_count": 3,
   "id": "eb0033e5-1524-4510-88bf-6a1eca38ee9e",
   "metadata": {},
   "outputs": [
    {
     "data": {
      "text/plain": [
       "3"
      ]
     },
     "execution_count": 3,
     "metadata": {},
     "output_type": "execute_result"
    }
   ],
   "source": [
    "foo"
   ]
  },
  {
   "cell_type": "code",
   "execution_count": 4,
   "id": "14504dc0-e003-4595-9312-c4515e2fd0ff",
   "metadata": {},
   "outputs": [],
   "source": [
    "bar: bool = True"
   ]
  },
  {
   "cell_type": "code",
   "execution_count": 5,
   "id": "904ff910-651d-425d-b44a-4244718a6788",
   "metadata": {},
   "outputs": [
    {
     "ename": "ModuleNotFoundError",
     "evalue": "No module named 'dataclass'",
     "output_type": "error",
     "traceback": [
      "\u001b[0;31m---------------------------------------------------------------------------\u001b[0m",
      "\u001b[0;31mModuleNotFoundError\u001b[0m                       Traceback (most recent call last)",
      "Cell \u001b[0;32mIn[5], line 1\u001b[0m\n\u001b[0;32m----> 1\u001b[0m \u001b[38;5;28;01mfrom\u001b[39;00m\u001b[38;5;250m \u001b[39m\u001b[38;5;21;01mdataclass\u001b[39;00m\u001b[38;5;250m \u001b[39m\u001b[38;5;28;01mimport\u001b[39;00m dataclass\n",
      "\u001b[0;31mModuleNotFoundError\u001b[0m: No module named 'dataclass'"
     ]
    }
   ],
   "source": [
    "from dataclass import dataclass"
   ]
  },
  {
   "cell_type": "code",
   "execution_count": 7,
   "id": "57ac24af-c3b1-4b5b-9cfa-4069bc711f79",
   "metadata": {},
   "outputs": [],
   "source": [
    "from dataclasses import dataclass"
   ]
  },
  {
   "cell_type": "code",
   "execution_count": 8,
   "id": "4e8ab2d2-5cae-4b9e-8930-ff19fd4d6664",
   "metadata": {},
   "outputs": [
    {
     "ename": "NameError",
     "evalue": "name 'Node' is not defined",
     "output_type": "error",
     "traceback": [
      "\u001b[0;31m---------------------------------------------------------------------------\u001b[0m",
      "\u001b[0;31mNameError\u001b[0m                                 Traceback (most recent call last)",
      "Cell \u001b[0;32mIn[8], line 1\u001b[0m\n\u001b[0;32m----> 1\u001b[0m \u001b[38;5;28;43;01mclass\u001b[39;49;00m\u001b[38;5;250;43m \u001b[39;49m\u001b[38;5;21;43;01mNode\u001b[39;49;00m\u001b[43m:\u001b[49m\n\u001b[1;32m      2\u001b[0m \u001b[43m    \u001b[49m\u001b[38;5;28;43;01mdef\u001b[39;49;00m\u001b[38;5;250;43m \u001b[39;49m\u001b[38;5;21;43m__init__\u001b[39;49m\u001b[43m(\u001b[49m\u001b[38;5;28;43mself\u001b[39;49m\u001b[43m,\u001b[49m\u001b[43m \u001b[49m\u001b[43mrow\u001b[49m\u001b[43m:\u001b[49m\u001b[43m \u001b[49m\u001b[38;5;28;43mint\u001b[39;49m\u001b[43m,\u001b[49m\u001b[43m \u001b[49m\u001b[43mcol\u001b[49m\u001b[43m:\u001b[49m\u001b[43m \u001b[49m\u001b[38;5;28;43mint\u001b[39;49m\u001b[43m,\u001b[49m\u001b[43m \u001b[49m\u001b[43mis_land\u001b[49m\u001b[43m:\u001b[49m\u001b[43m \u001b[49m\u001b[38;5;28;43mbool\u001b[39;49m\u001b[43m)\u001b[49m\u001b[43m:\u001b[49m\n\u001b[1;32m      3\u001b[0m \u001b[43m        \u001b[49m\u001b[38;5;28;43mself\u001b[39;49m\u001b[38;5;241;43m.\u001b[39;49m\u001b[43mrow\u001b[49m\u001b[43m \u001b[49m\u001b[38;5;241;43m=\u001b[39;49m\u001b[43m \u001b[49m\u001b[43mrow\u001b[49m\n",
      "Cell \u001b[0;32mIn[8], line 8\u001b[0m, in \u001b[0;36mNode\u001b[0;34m()\u001b[0m\n\u001b[1;32m      5\u001b[0m     \u001b[38;5;28mself\u001b[39m\u001b[38;5;241m.\u001b[39mis_land \u001b[38;5;241m=\u001b[39m is_land\n\u001b[1;32m      6\u001b[0m     \u001b[38;5;28mself\u001b[39m\u001b[38;5;241m.\u001b[39mneighbors: List[Node] \u001b[38;5;241m=\u001b[39m []\n\u001b[0;32m----> 8\u001b[0m \u001b[38;5;28;01mdef\u001b[39;00m\u001b[38;5;250m \u001b[39m\u001b[38;5;21madd_neighbor\u001b[39m(\u001b[38;5;28mself\u001b[39m, node: \u001b[43mNode\u001b[49m):\n\u001b[1;32m      9\u001b[0m     \u001b[38;5;28mself\u001b[39m\u001b[38;5;241m.\u001b[39mneighbors\u001b[38;5;241m.\u001b[39mappend(node)\n\u001b[1;32m     11\u001b[0m \u001b[38;5;28;01mdef\u001b[39;00m\u001b[38;5;250m \u001b[39m\u001b[38;5;21m__repr__\u001b[39m(\u001b[38;5;28mself\u001b[39m):\n",
      "\u001b[0;31mNameError\u001b[0m: name 'Node' is not defined"
     ]
    }
   ],
   "source": [
    "class Node:\n",
    "    def __init__(self, row: int, col: int, is_land: bool):\n",
    "        self.row = row\n",
    "        self.col = col\n",
    "        self.is_land = is_land\n",
    "        self.neighbors: List[Node] = []\n",
    "\n",
    "    def add_neighbor(self, node: Node):\n",
    "        self.neighbors.append(node)\n",
    "\n",
    "    def __repr__(self):\n",
    "        return f\"({self.row}, {self.col}): \" + \"1\" if self.is_land else \"0\" + f\" -> [{self.neighbors}]\"\n",
    "\n",
    "    def __str__(self):\n",
    "        return self.__repr__()"
   ]
  },
  {
   "cell_type": "code",
   "execution_count": 9,
   "id": "c545aa5e-1cdd-4068-84d3-8272e48a72bf",
   "metadata": {},
   "outputs": [],
   "source": [
    "from collections import deque"
   ]
  },
  {
   "cell_type": "code",
   "execution_count": 11,
   "id": "5cab9b11-acb7-4339-9e17-c988c89c02b0",
   "metadata": {},
   "outputs": [],
   "source": [
    "d = deque()"
   ]
  },
  {
   "cell_type": "code",
   "execution_count": 16,
   "id": "cd0e50b1-d134-4fba-8909-8997ad73f7d8",
   "metadata": {},
   "outputs": [
    {
     "data": {
      "text/plain": [
       "\u001b[0;31mDocstring:\u001b[0m Remove and return the leftmost element.\n",
       "\u001b[0;31mType:\u001b[0m      builtin_function_or_method"
      ]
     },
     "metadata": {},
     "output_type": "display_data"
    }
   ],
   "source": [
    "d.popleft?"
   ]
  },
  {
   "cell_type": "code",
   "execution_count": 52,
   "id": "dd6cfa62-9f05-4450-bfd1-84f2d9d5a6a3",
   "metadata": {},
   "outputs": [],
   "source": [
    "from collections import deque\n",
    "from typing import Tuple, List\n",
    "\n",
    "EMPTY = 0\n",
    "FRESH = 1\n",
    "ROTTEN = 2\n",
    "\n",
    "\n",
    "class Solution:\n",
    "    def orangesRotting(self, grid: List[List[int]]) -> int:\n",
    "        # bfs, with start points as rotting nodes\n",
    "        # return max depth reached before all cells visited\n",
    "        rows = len(grid)\n",
    "        cols = len(grid[0])\n",
    "\n",
    "        def valid_coords(r, c):\n",
    "            return r >= 0 and r < rows and c >= 0 and c < cols\n",
    "\n",
    "        def neighbors(r, c):\n",
    "            maybe_coords = [(r, c + 1), (r + 1, c), (r, c - 1), (r - 1, c)]\n",
    "            return [(row, col) for row, col in maybe_coords if valid_coords(row, col) and grid[row][col] == FRESH]\n",
    "\n",
    "        next_nodes = deque()\n",
    "        total_fruit = 0\n",
    "        starting_fresh = 0\n",
    "        for r in range(0, rows):\n",
    "            row = grid[r]\n",
    "            for c in range(0, cols):\n",
    "                if row[c] == ROTTEN:\n",
    "                    next_nodes.append({'depth': 0, 'coords': (r, c)})\n",
    "                    row[c] = FRESH # set it fresh to start, makes loop logic below easier\n",
    "                    total_fruit += 1\n",
    "                elif row[c] == FRESH:\n",
    "                    total_fruit += 1\n",
    "                    starting_fresh += 1\n",
    "\n",
    "        # def bfs(start: Tuple[int, int]) -> bool:\n",
    "        #     result = False\n",
    "        #     if\n",
    "        #     for n in neighbors(start[0], start[1]):\n",
    "\n",
    "\n",
    "        #progress_last_loop = True\n",
    "        print(f\"tf: {total_fruit}, sf: {starting_fresh}\")\n",
    "        fruits_rotted = 0\n",
    "        max_depth = 0\n",
    "        while fruits_rotted < total_fruit and len(next_nodes) > 0:\n",
    "            #progress_last_loop = False\n",
    "            current_node = next_nodes.popleft()\n",
    "            #print(current_node)\n",
    "            current_node_coords = current_node['coords']\n",
    "            if grid[current_node_coords[0]][current_node_coords[1]] != FRESH:\n",
    "                continue\n",
    "            \n",
    "            print(current_node)\n",
    "            grid[current_node_coords[0]][current_node_coords[1]] = ROTTEN\n",
    "            fruits_rotted += 1\n",
    "            max_depth = max(max_depth, current_node['depth'])   # max() probably redundant, should be always increasing\n",
    "            #print(next_nodes)\n",
    "            next_nodes.extend({'depth': current_node['depth'] + 1, 'coords': coords}\n",
    "                    for coords in neighbors(*current_node_coords))\n",
    "            print(next_nodes)\n",
    "        \n",
    "        return max_depth if fruits_rotted == total_fruit else -1"
   ]
  },
  {
   "cell_type": "code",
   "execution_count": 53,
   "id": "780d01a2-6bba-46f6-8354-698614afedae",
   "metadata": {},
   "outputs": [
    {
     "name": "stdout",
     "output_type": "stream",
     "text": [
      "tf: 6, sf: 5\n",
      "{'depth': 0, 'coords': (2, 2)}\n",
      "deque([{'depth': 1, 'coords': (2, 1)}, {'depth': 1, 'coords': (1, 2)}])\n",
      "{'depth': 1, 'coords': (2, 1)}\n",
      "deque([{'depth': 1, 'coords': (1, 2)}, {'depth': 2, 'coords': (1, 1)}])\n",
      "{'depth': 1, 'coords': (1, 2)}\n",
      "deque([{'depth': 2, 'coords': (1, 1)}, {'depth': 2, 'coords': (1, 1)}])\n",
      "{'depth': 2, 'coords': (1, 1)}\n",
      "deque([{'depth': 2, 'coords': (1, 1)}, {'depth': 3, 'coords': (0, 1)}])\n",
      "{'depth': 3, 'coords': (0, 1)}\n",
      "deque([{'depth': 4, 'coords': (0, 0)}])\n",
      "{'depth': 4, 'coords': (0, 0)}\n",
      "deque([])\n"
     ]
    },
    {
     "data": {
      "text/plain": [
       "4"
      ]
     },
     "execution_count": 53,
     "metadata": {},
     "output_type": "execute_result"
    }
   ],
   "source": [
    "grid=[\n",
    "    [1,1,0],\n",
    "    [0,1,1],\n",
    "    [0,1,2]\n",
    "]\n",
    "Solution().orangesRotting(grid)"
   ]
  },
  {
   "cell_type": "code",
   "execution_count": 55,
   "id": "16aa405a-1675-4b1a-958f-2508e59e8814",
   "metadata": {},
   "outputs": [
    {
     "data": {
      "text/plain": [
       "[[], [], []]"
      ]
     },
     "execution_count": 55,
     "metadata": {},
     "output_type": "execute_result"
    }
   ],
   "source": [
    "[[]] * 3"
   ]
  },
  {
   "cell_type": "code",
   "execution_count": 56,
   "id": "f73e6507-2ec7-4beb-ada3-a1da3df87466",
   "metadata": {},
   "outputs": [
    {
     "data": {
      "text/plain": [
       "['foo', 'foo', 'foo']"
      ]
     },
     "execution_count": 56,
     "metadata": {},
     "output_type": "execute_result"
    }
   ],
   "source": [
    "[\"foo\"] * 3"
   ]
  },
  {
   "cell_type": "code",
   "execution_count": 67,
   "id": "52864583-4521-41de-a5ce-56ebf08ff543",
   "metadata": {},
   "outputs": [
    {
     "name": "stdout",
     "output_type": "stream",
     "text": [
      "[[1, 2, 3], [0, 4], [0], [0], [1]]\n",
      "0\n",
      "  1\n",
      "    4\n",
      "  2\n",
      "  3\n"
     ]
    },
    {
     "data": {
      "text/plain": [
       "True"
      ]
     },
     "execution_count": 67,
     "metadata": {},
     "output_type": "execute_result"
    }
   ],
   "source": [
    "WHITE = \"white\"\n",
    "GRAY = \"gray\"\n",
    "BLACK = \"black\"\n",
    "\n",
    "class NotATreeException(Exception):\n",
    "    pass\n",
    "\n",
    "class Solution:\n",
    "    def validTree(self, n: int, edges: List[List[int]]) -> bool:\n",
    "        # tree there is exactly one path from every node to every other node\n",
    "        # dfs - color nodes - if we hit a gray or black node during recursion, we know there's some other path to it\n",
    "        # need to discount immediate predecessor\n",
    "        \n",
    "        node_neighbors = [list() for _ in range(n)]\n",
    "        for e in edges:\n",
    "            node_neighbors[e[0]].append(e[1])\n",
    "            node_neighbors[e[1]].append(e[0])\n",
    "\n",
    "        print(node_neighbors)\n",
    "\n",
    "        node_colors = [WHITE] * n\n",
    "        nodes_visited = 0\n",
    "        prefix = ''\n",
    "\n",
    "        def dfs(node: int, predecessor: int):\n",
    "            nonlocal prefix\n",
    "            nonlocal nodes_visited\n",
    "            node_colors[node] = GRAY\n",
    "            print(prefix + str(node))\n",
    "            prefix += '  '\n",
    "            for neighbor in node_neighbors[node]:\n",
    "                if neighbor == predecessor:\n",
    "                    continue\n",
    "                if node_colors[neighbor] != WHITE:\n",
    "                    print(f\"NOT A TREE: neigh {neighbor}, colors {node_colors}\")\n",
    "                    raise NotATreeException()\n",
    "                dfs(neighbor, node)\n",
    "\n",
    "            node_colors[node] = BLACK\n",
    "            nodes_visited += 1\n",
    "            prefix = prefix[0:-2]\n",
    "\n",
    "        try:\n",
    "            dfs(0, -1)\n",
    "            return nodes_visited == n\n",
    "        except NotATreeException as e:\n",
    "            return False\n",
    "\n",
    "\n",
    "n=5\n",
    "edges=[[0,1],[0,2],[0,3],[1,4]]\n",
    "Solution().validTree(n, edges)"
   ]
  },
  {
   "cell_type": "code",
   "execution_count": null,
   "id": "3e457fcb-3b74-48a0-b64f-f63d6ad356ca",
   "metadata": {},
   "outputs": [],
   "source": []
  }
 ],
 "metadata": {
  "kernelspec": {
   "display_name": "Python 3 (ipykernel)",
   "language": "python",
   "name": "python3"
  },
  "language_info": {
   "codemirror_mode": {
    "name": "ipython",
    "version": 3
   },
   "file_extension": ".py",
   "mimetype": "text/x-python",
   "name": "python",
   "nbconvert_exporter": "python",
   "pygments_lexer": "ipython3",
   "version": "3.12.3"
  }
 },
 "nbformat": 4,
 "nbformat_minor": 5
}
